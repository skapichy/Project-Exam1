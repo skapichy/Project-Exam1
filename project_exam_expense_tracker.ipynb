{
 "cells": [
  {
   "cell_type": "code",
   "execution_count": null,
   "metadata": {},
   "outputs": [],
   "source": [
    "import uuid\n",
    "from datetime import datetime"
   ]
  },
  {
   "cell_type": "code",
   "execution_count": null,
   "metadata": {},
   "outputs": [],
   "source": [
    "class Expense:\n",
    "    def __init__(self, title, amount):\n",
    "        self.id = str(uuid.uuid4())\n",
    "        self.title = title\n",
    "        self.amount = amount\n",
    "        self.created_at = datetime.utcnow()\n",
    "        self.updated_at = datetime.utcnow()"
   ]
  },
  {
   "cell_type": "code",
   "execution_count": null,
   "metadata": {},
   "outputs": [],
   "source": [
    "def update(self, title= None, amount= None):\n",
    "    if title:\n",
    "        self.title = title\n",
    "    if amount:\n",
    "        self.amount = float(amount)\n",
    "    self.updated_at = datetime.utcnow()\n",
    "\n",
    "def to_dict(self):\n",
    "    return{\n",
    "        'id': self.id,\n",
    "        'title': self.title,\n",
    "        'amount': self.amount,\n",
    "        'created_at': self.created_at.isoformat(),\n",
    "        'updated_at': self.updated_at.isoformat()\n",
    "    }    \n",
    "    \n",
    "def __str__(self):\n",
    "    return f'Expense({self.id}, {self.title}, {self.amount}, {self.created_at}, {self.updated_at})'\n"
   ]
  },
  {
   "cell_type": "code",
   "execution_count": null,
   "metadata": {},
   "outputs": [],
   "source": [
    "class ExpenseDatabase:\n",
    "    def __init__(self):\n",
    "        self.expenses = []\n",
    "    \n",
    "    def add_expense(self, expense):\n",
    "        self.expenses.append(expense)\n",
    "        print(f\"Expense added: {expense.title} (${expense.amount:.2f})\")  \n",
    "    \n",
    "    def remove_expense(self, expense_id):\n",
    "        self.expenses = [exp for exp in self.expenses if exp.id != expense_id]\n",
    "        print(f\"Expense with ID {expense_id} removed.\")\n",
    "    \n",
    "    def get_expenses_by_id(self, expense_id):\n",
    "        for expense in self.expenses:\n",
    "            if expense.id == expense_id:\n",
    "                return expense\n",
    "        return None\n",
    "        \n",
    "    def get_expenses_by_title(self, title): \n",
    "        return [exp for exp in self.expenses if exp.title.lower() == title.lower()]\n",
    "    \n",
    "    def to_dict(self):\n",
    "        return [expense.to_dict() for expense in self.expenses]\n",
    "    \n",
    "    def __str__(self):\n",
    "        return f'ExpenseDatabase({len(self.expenses)} expenses)'"
   ]
  },
  {
   "cell_type": "code",
   "execution_count": null,
   "metadata": {},
   "outputs": [],
   "source": []
  },
  {
   "cell_type": "code",
   "execution_count": null,
   "metadata": {},
   "outputs": [],
   "source": []
  }
 ],
 "metadata": {
  "language_info": {
   "name": "python"
  }
 },
 "nbformat": 4,
 "nbformat_minor": 2
}
